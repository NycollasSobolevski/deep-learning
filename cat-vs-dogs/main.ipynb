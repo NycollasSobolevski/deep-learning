{
 "cells": [
  {
   "cell_type": "code",
   "execution_count": null,
   "metadata": {},
   "outputs": [],
   "source": [
    "# %pip install pandas\n",
    "# %pip install keras\n",
    "# %pip install tensorflow\n"
   ]
  },
  {
   "cell_type": "code",
   "execution_count": null,
   "metadata": {},
   "outputs": [],
   "source": [
    "from keras import models\n",
    "from keras import layers\n",
    "from keras import activations\n",
    "from keras import initializers\n",
    "from keras import regularizers\n",
    "from keras import optimizers\n",
    "from keras import losses\n",
    "from keras import metrics\n",
    "from keras import callbacks\n",
    "from keras import preprocessing\n",
    "from keras.preprocessing import image\n"
   ]
  },
  {
   "cell_type": "code",
   "execution_count": null,
   "metadata": {},
   "outputs": [],
   "source": [
    "\n",
    "model = models.Sequential()\n",
    "\n",
    "model.add(layers.Conv2D(\n",
    "    32, (5, 5),\n",
    "    input_shape =  (64, 64, 3),\n",
    "    activation = 'relu'\n",
    "))\n",
    "model.add(layers.MaxPooling2D(\n",
    "    pool_size = (2 ,2)\n",
    "))\n",
    "\n",
    "model.add(layers.Conv2D(\n",
    "    16, (5, 5),\n",
    "    input_shape =  (30, 30, 3),\n",
    "    activation = 'relu'\n",
    "))\n",
    "model.add(layers.MaxPooling2D(\n",
    "    pool_size = (2 ,2)\n",
    "))\n",
    "\n",
    "model.add(layers.Flatten())\n",
    "\n",
    "\n",
    "\n"
   ]
  },
  {
   "cell_type": "code",
   "execution_count": null,
   "metadata": {},
   "outputs": [],
   "source": [
    "model.add(layers.Dense(\n",
    "    256,\n",
    "    \n",
    ")) \n",
    "model.add(layers.Dropout(0.5))\n",
    "model.add(layers.Activation(activations.relu))\n",
    "\n",
    "model.add(layers.Dense(\n",
    "    64,\n",
    ")) \n",
    "model.add(layers.Activation(activations.relu))\n",
    "model.add(layers.BatchNormalization())\n",
    "\n",
    "model.add(layers.Dense(\n",
    "    32,\n",
    ")) \n",
    "model.add(layers.Activation(activations.relu))\n",
    "\n",
    "model.add(layers.Dense(\n",
    "    2,\n",
    ")) \n",
    "model.add(layers.Activation(activations.exponential))\n",
    "\n"
   ]
  },
  {
   "cell_type": "code",
   "execution_count": null,
   "metadata": {},
   "outputs": [],
   "source": [
    "\n",
    "model.compile(\n",
    "    optimizer = optimizers.SGD(),\n",
    "    loss      = losses.BinaryCrossentropy(),\n",
    "    metrics   = [metrics.Accuracy(), metrics.Precision()]\n",
    ")\n"
   ]
  },
  {
   "cell_type": "code",
   "execution_count": null,
   "metadata": {},
   "outputs": [],
   "source": [
    "dataGen = image.ImageDataGenerator(\n",
    "    rescale         = 1.0/255,\n",
    "    shear_range     = .2,\n",
    "    zoom_range      = .2,\n",
    "    horizontal_flip = True,\n",
    "    vertical_flip   = False,\n",
    "    validation_split= .2\n",
    ")\n",
    "\n",
    "directory = \"./assets/\"\n",
    "qtd_files = 24998\n",
    "batchsize = 32\n",
    "\n",
    "X_Train = dataGen.flow_from_directory(\n",
    "    directory,\n",
    "    target_size= (64,64),\n",
    "    batch_size = batchsize,\n",
    "    class_mode = 'categorical',\n",
    "    subset     = 'training'\n",
    ")\n",
    "X_Tests = dataGen.flow_from_directory(\n",
    "    directory,\n",
    "    target_size= (64,64),\n",
    "    batch_size = batchsize,\n",
    "    class_mode = 'categorical',\n",
    "    subset     = 'validation'\n",
    ")"
   ]
  },
  {
   "cell_type": "code",
   "execution_count": null,
   "metadata": {},
   "outputs": [],
   "source": [
    "19998 / batchsize"
   ]
  },
  {
   "cell_type": "code",
   "execution_count": null,
   "metadata": {},
   "outputs": [],
   "source": [
    "steps_per_epoch =  19998 / batchsize \n",
    "#! batchsize * stepsperepoch = xtrain.lengtth\n",
    "model.fit(\n",
    "    X_Train, \n",
    "    steps_per_epoch = steps_per_epoch,     #! batchsize / dataset.length\n",
    "    epochs          = 50,       #!quantidade maxima de epocas a treinar\n",
    "    validation_steps= 100,\n",
    "    callbacks       = [\n",
    "        # callbacks.EarlyStopping(patience = 4),  #!se o erro nao melhorar a cada (4) epocas ele para o fit\n",
    "        callbacks.ModelCheckpoint(\n",
    "            filepath='./models/model.{epoch:02d}-{val_loss:.2f}.h5' #! permite que o treinamento volte aonde parou\n",
    "\n",
    "        )\n",
    "    ],\n",
    "    validation_data=X_Tests\n",
    ")\n",
    "\n",
    "\n",
    "# model.save('model')"
   ]
  }
 ],
 "metadata": {
  "kernelspec": {
   "display_name": "Python 3",
   "language": "python",
   "name": "python3"
  },
  "language_info": {
   "codemirror_mode": {
    "name": "ipython",
    "version": 3
   },
   "file_extension": ".py",
   "mimetype": "text/x-python",
   "name": "python",
   "nbconvert_exporter": "python",
   "pygments_lexer": "ipython3",
   "version": "3.11.4"
  },
  "orig_nbformat": 4
 },
 "nbformat": 4,
 "nbformat_minor": 2
}
