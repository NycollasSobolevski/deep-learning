{
 "cells": [
  {
   "cell_type": "code",
   "execution_count": 1,
   "metadata": {},
   "outputs": [
    {
     "name": "stdout",
     "output_type": "stream",
     "text": [
      "WARNING:tensorflow:From c:\\Users\\disrct\\AppData\\Local\\Programs\\Python\\Python311\\Lib\\site-packages\\keras\\src\\losses.py:2976: The name tf.losses.sparse_softmax_cross_entropy is deprecated. Please use tf.compat.v1.losses.sparse_softmax_cross_entropy instead.\n",
      "\n"
     ]
    }
   ],
   "source": [
    "from keras import models\n",
    "from keras import layers\n",
    "from keras import activations\n",
    "from keras import initializers\n",
    "from keras import regularizers\n",
    "from keras import optimizers\n",
    "from keras import losses\n",
    "from keras import metrics\n",
    "from keras import callbacks\n",
    "from keras import preprocessing\n",
    "from keras.preprocessing import image\n"
   ]
  },
  {
   "cell_type": "code",
   "execution_count": 2,
   "metadata": {},
   "outputs": [
    {
     "name": "stdout",
     "output_type": "stream",
     "text": [
      "WARNING:tensorflow:From c:\\Users\\disrct\\AppData\\Local\\Programs\\Python\\Python311\\Lib\\site-packages\\keras\\src\\backend.py:873: The name tf.get_default_graph is deprecated. Please use tf.compat.v1.get_default_graph instead.\n",
      "\n",
      "WARNING:tensorflow:From c:\\Users\\disrct\\AppData\\Local\\Programs\\Python\\Python311\\Lib\\site-packages\\keras\\src\\layers\\pooling\\max_pooling2d.py:161: The name tf.nn.max_pool is deprecated. Please use tf.nn.max_pool2d instead.\n",
      "\n"
     ]
    }
   ],
   "source": [
    "\n",
    "model = models.Sequential()\n",
    "\n",
    "model.add(layers.Conv2D(\n",
    "    32, (5, 5),\n",
    "    input_shape =  (64, 64, 3),\n",
    "    activation = 'relu'\n",
    "))\n",
    "model.add(layers.MaxPooling2D(\n",
    "    pool_size = (2 ,2)\n",
    "))\n",
    "\n",
    "model.add(layers.Conv2D(\n",
    "    16, (5, 5),\n",
    "    input_shape =  (30, 30, 3),\n",
    "    activation = 'relu'\n",
    "))\n",
    "model.add(layers.MaxPooling2D(\n",
    "    pool_size = (2 ,2)\n",
    "))\n",
    "\n",
    "model.add(layers.Flatten())\n",
    "\n",
    "\n",
    "\n"
   ]
  },
  {
   "cell_type": "code",
   "execution_count": 3,
   "metadata": {},
   "outputs": [],
   "source": [
    "model.add(layers.Dense(\n",
    "    256,\n",
    "    \n",
    ")) \n",
    "model.add(layers.Dropout(0.5))\n",
    "model.add(layers.Activation(activations.relu))\n",
    "\n",
    "model.add(layers.Dense(\n",
    "    64,\n",
    ")) \n",
    "model.add(layers.Activation(activations.relu))\n",
    "model.add(layers.BatchNormalization())\n",
    "\n",
    "model.add(layers.Dense(\n",
    "    32,\n",
    ")) \n",
    "model.add(layers.Activation(activations.relu))\n",
    "\n",
    "model.add(layers.Dense(\n",
    "    2,\n",
    ")) \n",
    "model.add(layers.Activation(activations.exponential))\n",
    "\n"
   ]
  },
  {
   "cell_type": "code",
   "execution_count": 4,
   "metadata": {},
   "outputs": [],
   "source": [
    "\n",
    "model.compile(\n",
    "    optimizer = optimizers.SGD(),\n",
    "    loss      = losses.BinaryCrossentropy(),\n",
    "    metrics   = [metrics.CategoricalAccuracy(), metrics.Precision()]\n",
    ")\n"
   ]
  },
  {
   "cell_type": "code",
   "execution_count": 5,
   "metadata": {},
   "outputs": [
    {
     "name": "stdout",
     "output_type": "stream",
     "text": [
      "Found 69600 images belonging to 29 classes.\n",
      "Found 17400 images belonging to 29 classes.\n"
     ]
    }
   ],
   "source": [
    "dataGen = image.ImageDataGenerator(\n",
    "    rescale         = 1.0/255,\n",
    "    shear_range     = .2,\n",
    "    zoom_range      = .2,\n",
    "    horizontal_flip = True,\n",
    "    vertical_flip   = False,\n",
    "    validation_split= .2\n",
    ")\n",
    "\n",
    "directory = \"./assets/asl_alphabet_train/\"\n",
    "qtd_files = 69600 \n",
    "batchsize = 32\n",
    "\n",
    "X_Train = dataGen.flow_from_directory(\n",
    "    directory,\n",
    "    target_size= (64,64),\n",
    "    batch_size = batchsize,\n",
    "    class_mode = 'categorical',\n",
    "    subset     = 'training'\n",
    ")\n",
    "X_Tests = dataGen.flow_from_directory(\n",
    "    directory,\n",
    "    target_size= (64,64),\n",
    "    batch_size = batchsize,\n",
    "    class_mode = 'categorical',\n",
    "    subset     = 'validation'\n",
    ")"
   ]
  },
  {
   "cell_type": "code",
   "execution_count": 6,
   "metadata": {},
   "outputs": [
    {
     "name": "stdout",
     "output_type": "stream",
     "text": [
      "Epoch 1/50\n",
      "WARNING:tensorflow:From c:\\Users\\disrct\\AppData\\Local\\Programs\\Python\\Python311\\Lib\\site-packages\\keras\\src\\utils\\tf_utils.py:492: The name tf.ragged.RaggedTensorValue is deprecated. Please use tf.compat.v1.ragged.RaggedTensorValue instead.\n",
      "\n"
     ]
    },
    {
     "ename": "InvalidArgumentError",
     "evalue": "Graph execution error:\n\nDetected at node LogicalAnd defined at (most recent call last):\n  File \"<frozen runpy>\", line 198, in _run_module_as_main\n\n  File \"<frozen runpy>\", line 88, in _run_code\n\n  File \"C:\\Users\\disrct\\AppData\\Roaming\\Python\\Python311\\site-packages\\ipykernel_launcher.py\", line 17, in <module>\n\n  File \"C:\\Users\\disrct\\AppData\\Roaming\\Python\\Python311\\site-packages\\traitlets\\config\\application.py\", line 1053, in launch_instance\n\n  File \"C:\\Users\\disrct\\AppData\\Roaming\\Python\\Python311\\site-packages\\ipykernel\\kernelapp.py\", line 737, in start\n\n  File \"C:\\Users\\disrct\\AppData\\Roaming\\Python\\Python311\\site-packages\\tornado\\platform\\asyncio.py\", line 195, in start\n\n  File \"c:\\Users\\disrct\\AppData\\Local\\Programs\\Python\\Python311\\Lib\\asyncio\\base_events.py\", line 607, in run_forever\n\n  File \"c:\\Users\\disrct\\AppData\\Local\\Programs\\Python\\Python311\\Lib\\asyncio\\base_events.py\", line 1922, in _run_once\n\n  File \"c:\\Users\\disrct\\AppData\\Local\\Programs\\Python\\Python311\\Lib\\asyncio\\events.py\", line 80, in _run\n\n  File \"C:\\Users\\disrct\\AppData\\Roaming\\Python\\Python311\\site-packages\\ipykernel\\kernelbase.py\", line 524, in dispatch_queue\n\n  File \"C:\\Users\\disrct\\AppData\\Roaming\\Python\\Python311\\site-packages\\ipykernel\\kernelbase.py\", line 513, in process_one\n\n  File \"C:\\Users\\disrct\\AppData\\Roaming\\Python\\Python311\\site-packages\\ipykernel\\kernelbase.py\", line 418, in dispatch_shell\n\n  File \"C:\\Users\\disrct\\AppData\\Roaming\\Python\\Python311\\site-packages\\ipykernel\\kernelbase.py\", line 758, in execute_request\n\n  File \"C:\\Users\\disrct\\AppData\\Roaming\\Python\\Python311\\site-packages\\ipykernel\\ipkernel.py\", line 426, in do_execute\n\n  File \"C:\\Users\\disrct\\AppData\\Roaming\\Python\\Python311\\site-packages\\ipykernel\\zmqshell.py\", line 549, in run_cell\n\n  File \"C:\\Users\\disrct\\AppData\\Roaming\\Python\\Python311\\site-packages\\IPython\\core\\interactiveshell.py\", line 3046, in run_cell\n\n  File \"C:\\Users\\disrct\\AppData\\Roaming\\Python\\Python311\\site-packages\\IPython\\core\\interactiveshell.py\", line 3101, in _run_cell\n\n  File \"C:\\Users\\disrct\\AppData\\Roaming\\Python\\Python311\\site-packages\\IPython\\core\\async_helpers.py\", line 129, in _pseudo_sync_runner\n\n  File \"C:\\Users\\disrct\\AppData\\Roaming\\Python\\Python311\\site-packages\\IPython\\core\\interactiveshell.py\", line 3306, in run_cell_async\n\n  File \"C:\\Users\\disrct\\AppData\\Roaming\\Python\\Python311\\site-packages\\IPython\\core\\interactiveshell.py\", line 3488, in run_ast_nodes\n\n  File \"C:\\Users\\disrct\\AppData\\Roaming\\Python\\Python311\\site-packages\\IPython\\core\\interactiveshell.py\", line 3548, in run_code\n\n  File \"C:\\Users\\disrct\\AppData\\Local\\Temp\\ipykernel_20556\\2474735640.py\", line 3, in <module>\n\n  File \"c:\\Users\\disrct\\AppData\\Local\\Programs\\Python\\Python311\\Lib\\site-packages\\keras\\src\\utils\\traceback_utils.py\", line 65, in error_handler\n\n  File \"c:\\Users\\disrct\\AppData\\Local\\Programs\\Python\\Python311\\Lib\\site-packages\\keras\\src\\engine\\training.py\", line 1807, in fit\n\n  File \"c:\\Users\\disrct\\AppData\\Local\\Programs\\Python\\Python311\\Lib\\site-packages\\keras\\src\\engine\\training.py\", line 1401, in train_function\n\n  File \"c:\\Users\\disrct\\AppData\\Local\\Programs\\Python\\Python311\\Lib\\site-packages\\keras\\src\\engine\\training.py\", line 1384, in step_function\n\n  File \"c:\\Users\\disrct\\AppData\\Local\\Programs\\Python\\Python311\\Lib\\site-packages\\keras\\src\\engine\\training.py\", line 1373, in run_step\n\n  File \"c:\\Users\\disrct\\AppData\\Local\\Programs\\Python\\Python311\\Lib\\site-packages\\keras\\src\\engine\\training.py\", line 1155, in train_step\n\n  File \"c:\\Users\\disrct\\AppData\\Local\\Programs\\Python\\Python311\\Lib\\site-packages\\keras\\src\\engine\\training.py\", line 1249, in compute_metrics\n\n  File \"c:\\Users\\disrct\\AppData\\Local\\Programs\\Python\\Python311\\Lib\\site-packages\\keras\\src\\engine\\compile_utils.py\", line 620, in update_state\n\n  File \"c:\\Users\\disrct\\AppData\\Local\\Programs\\Python\\Python311\\Lib\\site-packages\\keras\\src\\utils\\metrics_utils.py\", line 77, in decorated\n\n  File \"c:\\Users\\disrct\\AppData\\Local\\Programs\\Python\\Python311\\Lib\\site-packages\\keras\\src\\metrics\\base_metric.py\", line 140, in update_state_fn\n\n  File \"c:\\Users\\disrct\\AppData\\Local\\Programs\\Python\\Python311\\Lib\\site-packages\\keras\\src\\metrics\\confusion_metrics.py\", line 470, in update_state\n\n  File \"c:\\Users\\disrct\\AppData\\Local\\Programs\\Python\\Python311\\Lib\\site-packages\\keras\\src\\utils\\metrics_utils.py\", line 790, in update_confusion_matrix_variables\n\n  File \"c:\\Users\\disrct\\AppData\\Local\\Programs\\Python\\Python311\\Lib\\site-packages\\keras\\src\\utils\\metrics_utils.py\", line 761, in weighted_assign_add\n\nIncompatible shapes: [1,64] vs. [1,928]\n\t [[{{node LogicalAnd}}]] [Op:__inference_train_function_1546]",
     "output_type": "error",
     "traceback": [
      "\u001b[1;31m---------------------------------------------------------------------------\u001b[0m",
      "\u001b[1;31mInvalidArgumentError\u001b[0m                      Traceback (most recent call last)",
      "\u001b[1;32mc:\\Users\\disrct\\Desktop\\Nycollas\\deeplearning\\asl-alphabet\\main.ipynb Cell 6\u001b[0m line \u001b[0;36m3\n\u001b[0;32m      <a href='vscode-notebook-cell:/c%3A/Users/disrct/Desktop/Nycollas/deeplearning/asl-alphabet/main.ipynb#W5sZmlsZQ%3D%3D?line=0'>1</a>\u001b[0m steps_per_epoch \u001b[39m=\u001b[39m  qtd_files  \u001b[39m/\u001b[39m batchsize \n\u001b[0;32m      <a href='vscode-notebook-cell:/c%3A/Users/disrct/Desktop/Nycollas/deeplearning/asl-alphabet/main.ipynb#W5sZmlsZQ%3D%3D?line=1'>2</a>\u001b[0m \u001b[39m#! batchsize * stepsperepoch = xtrain.lengtth\u001b[39;00m\n\u001b[1;32m----> <a href='vscode-notebook-cell:/c%3A/Users/disrct/Desktop/Nycollas/deeplearning/asl-alphabet/main.ipynb#W5sZmlsZQ%3D%3D?line=2'>3</a>\u001b[0m model\u001b[39m.\u001b[39;49mfit(\n\u001b[0;32m      <a href='vscode-notebook-cell:/c%3A/Users/disrct/Desktop/Nycollas/deeplearning/asl-alphabet/main.ipynb#W5sZmlsZQ%3D%3D?line=3'>4</a>\u001b[0m     X_Train, \n\u001b[0;32m      <a href='vscode-notebook-cell:/c%3A/Users/disrct/Desktop/Nycollas/deeplearning/asl-alphabet/main.ipynb#W5sZmlsZQ%3D%3D?line=4'>5</a>\u001b[0m     steps_per_epoch \u001b[39m=\u001b[39;49m steps_per_epoch,     \u001b[39m#! batchsize / dataset.length\u001b[39;49;00m\n\u001b[0;32m      <a href='vscode-notebook-cell:/c%3A/Users/disrct/Desktop/Nycollas/deeplearning/asl-alphabet/main.ipynb#W5sZmlsZQ%3D%3D?line=5'>6</a>\u001b[0m     epochs          \u001b[39m=\u001b[39;49m \u001b[39m50\u001b[39;49m,       \u001b[39m#!quantidade maxima de epocas a treinar\u001b[39;49;00m\n\u001b[0;32m      <a href='vscode-notebook-cell:/c%3A/Users/disrct/Desktop/Nycollas/deeplearning/asl-alphabet/main.ipynb#W5sZmlsZQ%3D%3D?line=6'>7</a>\u001b[0m     validation_steps\u001b[39m=\u001b[39;49m \u001b[39m100\u001b[39;49m,\n\u001b[0;32m      <a href='vscode-notebook-cell:/c%3A/Users/disrct/Desktop/Nycollas/deeplearning/asl-alphabet/main.ipynb#W5sZmlsZQ%3D%3D?line=7'>8</a>\u001b[0m     callbacks       \u001b[39m=\u001b[39;49m [\n\u001b[0;32m      <a href='vscode-notebook-cell:/c%3A/Users/disrct/Desktop/Nycollas/deeplearning/asl-alphabet/main.ipynb#W5sZmlsZQ%3D%3D?line=8'>9</a>\u001b[0m         \u001b[39m# callbacks.EarlyStopping(patience = 4),  #!se o erro nao melhorar a cada (4) epocas ele para o fit\u001b[39;49;00m\n\u001b[0;32m     <a href='vscode-notebook-cell:/c%3A/Users/disrct/Desktop/Nycollas/deeplearning/asl-alphabet/main.ipynb#W5sZmlsZQ%3D%3D?line=9'>10</a>\u001b[0m         callbacks\u001b[39m.\u001b[39;49mModelCheckpoint(\n\u001b[0;32m     <a href='vscode-notebook-cell:/c%3A/Users/disrct/Desktop/Nycollas/deeplearning/asl-alphabet/main.ipynb#W5sZmlsZQ%3D%3D?line=10'>11</a>\u001b[0m             filepath\u001b[39m=\u001b[39;49m\u001b[39m'\u001b[39;49m\u001b[39m./models/model.\u001b[39;49m\u001b[39m{epoch:02d}\u001b[39;49;00m\u001b[39m-\u001b[39;49m\u001b[39m{val_loss:.2f}\u001b[39;49;00m\u001b[39m.h5\u001b[39;49m\u001b[39m'\u001b[39;49m \u001b[39m#! permite que o treinamento volte aonde parou\u001b[39;49;00m\n\u001b[0;32m     <a href='vscode-notebook-cell:/c%3A/Users/disrct/Desktop/Nycollas/deeplearning/asl-alphabet/main.ipynb#W5sZmlsZQ%3D%3D?line=11'>12</a>\u001b[0m \n\u001b[0;32m     <a href='vscode-notebook-cell:/c%3A/Users/disrct/Desktop/Nycollas/deeplearning/asl-alphabet/main.ipynb#W5sZmlsZQ%3D%3D?line=12'>13</a>\u001b[0m         )\n\u001b[0;32m     <a href='vscode-notebook-cell:/c%3A/Users/disrct/Desktop/Nycollas/deeplearning/asl-alphabet/main.ipynb#W5sZmlsZQ%3D%3D?line=13'>14</a>\u001b[0m     ],\n\u001b[0;32m     <a href='vscode-notebook-cell:/c%3A/Users/disrct/Desktop/Nycollas/deeplearning/asl-alphabet/main.ipynb#W5sZmlsZQ%3D%3D?line=14'>15</a>\u001b[0m     validation_data\u001b[39m=\u001b[39;49mX_Tests\n\u001b[0;32m     <a href='vscode-notebook-cell:/c%3A/Users/disrct/Desktop/Nycollas/deeplearning/asl-alphabet/main.ipynb#W5sZmlsZQ%3D%3D?line=15'>16</a>\u001b[0m )\n\u001b[0;32m     <a href='vscode-notebook-cell:/c%3A/Users/disrct/Desktop/Nycollas/deeplearning/asl-alphabet/main.ipynb#W5sZmlsZQ%3D%3D?line=18'>19</a>\u001b[0m \u001b[39m# model.save('model')\u001b[39;00m\n",
      "File \u001b[1;32mc:\\Users\\disrct\\AppData\\Local\\Programs\\Python\\Python311\\Lib\\site-packages\\keras\\src\\utils\\traceback_utils.py:70\u001b[0m, in \u001b[0;36mfilter_traceback.<locals>.error_handler\u001b[1;34m(*args, **kwargs)\u001b[0m\n\u001b[0;32m     67\u001b[0m     filtered_tb \u001b[39m=\u001b[39m _process_traceback_frames(e\u001b[39m.\u001b[39m__traceback__)\n\u001b[0;32m     68\u001b[0m     \u001b[39m# To get the full stack trace, call:\u001b[39;00m\n\u001b[0;32m     69\u001b[0m     \u001b[39m# `tf.debugging.disable_traceback_filtering()`\u001b[39;00m\n\u001b[1;32m---> 70\u001b[0m     \u001b[39mraise\u001b[39;00m e\u001b[39m.\u001b[39mwith_traceback(filtered_tb) \u001b[39mfrom\u001b[39;00m \u001b[39mNone\u001b[39;00m\n\u001b[0;32m     71\u001b[0m \u001b[39mfinally\u001b[39;00m:\n\u001b[0;32m     72\u001b[0m     \u001b[39mdel\u001b[39;00m filtered_tb\n",
      "File \u001b[1;32mc:\\Users\\disrct\\AppData\\Local\\Programs\\Python\\Python311\\Lib\\site-packages\\tensorflow\\python\\eager\\execute.py:53\u001b[0m, in \u001b[0;36mquick_execute\u001b[1;34m(op_name, num_outputs, inputs, attrs, ctx, name)\u001b[0m\n\u001b[0;32m     51\u001b[0m \u001b[39mtry\u001b[39;00m:\n\u001b[0;32m     52\u001b[0m   ctx\u001b[39m.\u001b[39mensure_initialized()\n\u001b[1;32m---> 53\u001b[0m   tensors \u001b[39m=\u001b[39m pywrap_tfe\u001b[39m.\u001b[39mTFE_Py_Execute(ctx\u001b[39m.\u001b[39m_handle, device_name, op_name,\n\u001b[0;32m     54\u001b[0m                                       inputs, attrs, num_outputs)\n\u001b[0;32m     55\u001b[0m \u001b[39mexcept\u001b[39;00m core\u001b[39m.\u001b[39m_NotOkStatusException \u001b[39mas\u001b[39;00m e:\n\u001b[0;32m     56\u001b[0m   \u001b[39mif\u001b[39;00m name \u001b[39mis\u001b[39;00m \u001b[39mnot\u001b[39;00m \u001b[39mNone\u001b[39;00m:\n",
      "\u001b[1;31mInvalidArgumentError\u001b[0m: Graph execution error:\n\nDetected at node LogicalAnd defined at (most recent call last):\n  File \"<frozen runpy>\", line 198, in _run_module_as_main\n\n  File \"<frozen runpy>\", line 88, in _run_code\n\n  File \"C:\\Users\\disrct\\AppData\\Roaming\\Python\\Python311\\site-packages\\ipykernel_launcher.py\", line 17, in <module>\n\n  File \"C:\\Users\\disrct\\AppData\\Roaming\\Python\\Python311\\site-packages\\traitlets\\config\\application.py\", line 1053, in launch_instance\n\n  File \"C:\\Users\\disrct\\AppData\\Roaming\\Python\\Python311\\site-packages\\ipykernel\\kernelapp.py\", line 737, in start\n\n  File \"C:\\Users\\disrct\\AppData\\Roaming\\Python\\Python311\\site-packages\\tornado\\platform\\asyncio.py\", line 195, in start\n\n  File \"c:\\Users\\disrct\\AppData\\Local\\Programs\\Python\\Python311\\Lib\\asyncio\\base_events.py\", line 607, in run_forever\n\n  File \"c:\\Users\\disrct\\AppData\\Local\\Programs\\Python\\Python311\\Lib\\asyncio\\base_events.py\", line 1922, in _run_once\n\n  File \"c:\\Users\\disrct\\AppData\\Local\\Programs\\Python\\Python311\\Lib\\asyncio\\events.py\", line 80, in _run\n\n  File \"C:\\Users\\disrct\\AppData\\Roaming\\Python\\Python311\\site-packages\\ipykernel\\kernelbase.py\", line 524, in dispatch_queue\n\n  File \"C:\\Users\\disrct\\AppData\\Roaming\\Python\\Python311\\site-packages\\ipykernel\\kernelbase.py\", line 513, in process_one\n\n  File \"C:\\Users\\disrct\\AppData\\Roaming\\Python\\Python311\\site-packages\\ipykernel\\kernelbase.py\", line 418, in dispatch_shell\n\n  File \"C:\\Users\\disrct\\AppData\\Roaming\\Python\\Python311\\site-packages\\ipykernel\\kernelbase.py\", line 758, in execute_request\n\n  File \"C:\\Users\\disrct\\AppData\\Roaming\\Python\\Python311\\site-packages\\ipykernel\\ipkernel.py\", line 426, in do_execute\n\n  File \"C:\\Users\\disrct\\AppData\\Roaming\\Python\\Python311\\site-packages\\ipykernel\\zmqshell.py\", line 549, in run_cell\n\n  File \"C:\\Users\\disrct\\AppData\\Roaming\\Python\\Python311\\site-packages\\IPython\\core\\interactiveshell.py\", line 3046, in run_cell\n\n  File \"C:\\Users\\disrct\\AppData\\Roaming\\Python\\Python311\\site-packages\\IPython\\core\\interactiveshell.py\", line 3101, in _run_cell\n\n  File \"C:\\Users\\disrct\\AppData\\Roaming\\Python\\Python311\\site-packages\\IPython\\core\\async_helpers.py\", line 129, in _pseudo_sync_runner\n\n  File \"C:\\Users\\disrct\\AppData\\Roaming\\Python\\Python311\\site-packages\\IPython\\core\\interactiveshell.py\", line 3306, in run_cell_async\n\n  File \"C:\\Users\\disrct\\AppData\\Roaming\\Python\\Python311\\site-packages\\IPython\\core\\interactiveshell.py\", line 3488, in run_ast_nodes\n\n  File \"C:\\Users\\disrct\\AppData\\Roaming\\Python\\Python311\\site-packages\\IPython\\core\\interactiveshell.py\", line 3548, in run_code\n\n  File \"C:\\Users\\disrct\\AppData\\Local\\Temp\\ipykernel_20556\\2474735640.py\", line 3, in <module>\n\n  File \"c:\\Users\\disrct\\AppData\\Local\\Programs\\Python\\Python311\\Lib\\site-packages\\keras\\src\\utils\\traceback_utils.py\", line 65, in error_handler\n\n  File \"c:\\Users\\disrct\\AppData\\Local\\Programs\\Python\\Python311\\Lib\\site-packages\\keras\\src\\engine\\training.py\", line 1807, in fit\n\n  File \"c:\\Users\\disrct\\AppData\\Local\\Programs\\Python\\Python311\\Lib\\site-packages\\keras\\src\\engine\\training.py\", line 1401, in train_function\n\n  File \"c:\\Users\\disrct\\AppData\\Local\\Programs\\Python\\Python311\\Lib\\site-packages\\keras\\src\\engine\\training.py\", line 1384, in step_function\n\n  File \"c:\\Users\\disrct\\AppData\\Local\\Programs\\Python\\Python311\\Lib\\site-packages\\keras\\src\\engine\\training.py\", line 1373, in run_step\n\n  File \"c:\\Users\\disrct\\AppData\\Local\\Programs\\Python\\Python311\\Lib\\site-packages\\keras\\src\\engine\\training.py\", line 1155, in train_step\n\n  File \"c:\\Users\\disrct\\AppData\\Local\\Programs\\Python\\Python311\\Lib\\site-packages\\keras\\src\\engine\\training.py\", line 1249, in compute_metrics\n\n  File \"c:\\Users\\disrct\\AppData\\Local\\Programs\\Python\\Python311\\Lib\\site-packages\\keras\\src\\engine\\compile_utils.py\", line 620, in update_state\n\n  File \"c:\\Users\\disrct\\AppData\\Local\\Programs\\Python\\Python311\\Lib\\site-packages\\keras\\src\\utils\\metrics_utils.py\", line 77, in decorated\n\n  File \"c:\\Users\\disrct\\AppData\\Local\\Programs\\Python\\Python311\\Lib\\site-packages\\keras\\src\\metrics\\base_metric.py\", line 140, in update_state_fn\n\n  File \"c:\\Users\\disrct\\AppData\\Local\\Programs\\Python\\Python311\\Lib\\site-packages\\keras\\src\\metrics\\confusion_metrics.py\", line 470, in update_state\n\n  File \"c:\\Users\\disrct\\AppData\\Local\\Programs\\Python\\Python311\\Lib\\site-packages\\keras\\src\\utils\\metrics_utils.py\", line 790, in update_confusion_matrix_variables\n\n  File \"c:\\Users\\disrct\\AppData\\Local\\Programs\\Python\\Python311\\Lib\\site-packages\\keras\\src\\utils\\metrics_utils.py\", line 761, in weighted_assign_add\n\nIncompatible shapes: [1,64] vs. [1,928]\n\t [[{{node LogicalAnd}}]] [Op:__inference_train_function_1546]"
     ]
    }
   ],
   "source": [
    "steps_per_epoch =  qtd_files  / batchsize \n",
    "#! batchsize * stepsperepoch = xtrain.lengtth\n",
    "model.fit(\n",
    "    X_Train, \n",
    "    steps_per_epoch = steps_per_epoch,     #! batchsize / dataset.length\n",
    "    epochs          = 50,       #!quantidade maxima de epocas a treinar\n",
    "    validation_steps= 100,\n",
    "    callbacks       = [\n",
    "        # callbacks.EarlyStopping(patience = 4),  #!se o erro nao melhorar a cada (4) epocas ele para o fit\n",
    "        callbacks.ModelCheckpoint(\n",
    "            filepath='./models/model.{epoch:02d}-{val_loss:.2f}.h5' #! permite que o treinamento volte aonde parou\n",
    "\n",
    "        )\n",
    "    ],\n",
    "    validation_data=X_Tests\n",
    ")\n",
    "\n",
    "\n",
    "# model.save('model')"
   ]
  }
 ],
 "metadata": {
  "kernelspec": {
   "display_name": "Python 3",
   "language": "python",
   "name": "python3"
  },
  "language_info": {
   "codemirror_mode": {
    "name": "ipython",
    "version": 3
   },
   "file_extension": ".py",
   "mimetype": "text/x-python",
   "name": "python",
   "nbconvert_exporter": "python",
   "pygments_lexer": "ipython3",
   "version": "3.11.3"
  }
 },
 "nbformat": 4,
 "nbformat_minor": 2
}
